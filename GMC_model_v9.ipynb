{
 "cells": [
  {
   "cell_type": "markdown",
   "metadata": {},
   "source": [
    "# import modules"
   ]
  },
  {
   "cell_type": "code",
   "execution_count": 1,
   "metadata": {},
   "outputs": [
    {
     "output_type": "display_data",
     "data": {
      "text/plain": "<IPython.core.display.HTML object>",
      "text/html": "<style>.container { width:90% !important; }</style>"
     },
     "metadata": {}
    }
   ],
   "source": [
    "import pandas as pd\n",
    "import numpy as np\n",
    "import transliterate\n",
    "from sklearn import linear_model\n",
    "import joblib\n",
    "import plotly.express as px\n",
    "from IPython.core.display import display, HTML\n",
    "from sklearn.ensemble import RandomForestRegressor\n",
    "import datetime as dt\n",
    "import matplotlib.pyplot as plt\n",
    "from sklearn.metrics import mean_squared_error\n",
    "from sklearn.metrics import mean_absolute_error,r2_score\n",
    "import seaborn as sns\n",
    "import lightgbm as lgb\n",
    "import re\n",
    "reg = re.compile('[^a-zA-Z0-9]')\n",
    "import joblib\n",
    "import plotly.graph_objects as go\n",
    "from sklearn.model_selection import GridSearchCV\n",
    "from sklearn.model_selection import StratifiedKFold\n",
    "from plotly.subplots import make_subplots\n",
    "from sklearn.model_selection import train_test_split\n",
    "display(HTML(\"<style>.container { width:90% !important; }</style>\"))\n",
    "pd.set_option('display.max_rows', 1000)\n",
    "pd.set_option('display.max_columns', 2000)\n",
    "pd.set_option('display.width', 1000)"
   ]
  },
  {
   "cell_type": "code",
   "execution_count": 2,
   "metadata": {},
   "outputs": [],
   "source": [
    "# загрузка функций\n",
    "def reduce_mem_usage(df):\n",
    "    return df\n",
    "# перевод названия параметров в латиницу\n",
    "def rename_df(data):\n",
    "    data_name=[]\n",
    "    for i in data.columns:\n",
    "        try:\n",
    "            data_name.append(reg.sub('', transliterate.translit(str(i), reversed=True)))\n",
    "        except:\n",
    "            data_name.append(reg.sub('', str(i)))\n",
    "    data.columns=data_name\n",
    "    return(data)"
   ]
  },
  {
   "cell_type": "markdown",
   "metadata": {},
   "source": [
    "# read data"
   ]
  },
  {
   "cell_type": "code",
   "execution_count": 3,
   "metadata": {},
   "outputs": [],
   "source": [
    "gmc_al=pd.read_csv('GMC_al.csv',low_memory=False)\n",
    "gmc_red_ch=pd.read_csv('GMC_red_ch.csv',low_memory=False)\n",
    "OM=pd.read_excel('../Объектная модель ПАЗ.xlsx',sheet_name='сценарий 3')\n",
    "OM=rename_df(OM)\n",
    "\n",
    "OM.columns=OM.columns.str.lower()\n",
    "OM['tselevojparametr']=OM['tselevojparametr'].str.lower()"
   ]
  },
  {
   "cell_type": "code",
   "execution_count": 4,
   "metadata": {},
   "outputs": [],
   "source": [
    "# преобразование данных\n",
    "gmc_red_ch['Дозировка оборотного раствора ГМЦ-1']=gmc_red_ch['Дозировка оборотного раствора ГМЦ-1']*gmc_red_ch['Расход боксита по конвейеру ГМЦ-1']\n",
    "gmc_al['Дозировка оборотного раствора ГМЦ-1']=gmc_al['Дозировка оборотного раствора ГМЦ-1']*gmc_al['Расход боксита по конвейеру ГМЦ-1']\n",
    "gmc_red_ch['Расход оборотного раствора ЦС4']=gmc_red_ch['Расход оборотного раствора ЦС4']+gmc_red_ch['Расход фактический маточного раствора общий ЦС4']\n",
    "gmc_al['606_Vlaga']=gmc_al['Расход боксита по конвейеру ГМЦ-1']*gmc_al['606_Vlaga']/100\n",
    "gmc_al['606_Fe2O3']=gmc_al['Расход боксита по конвейеру ГМЦ-1']*gmc_al['606_Fe2O3']/100\n",
    "gmc_al['606_Al2O3']=gmc_al['Расход боксита по конвейеру ГМЦ-1']*gmc_al['606_Al2O3']/100\n",
    "gmc_al['606_C_opg']=gmc_al['Расход боксита по конвейеру ГМЦ-1']*gmc_al['606_C_opg']/100\n",
    "gmc_al['606_SiO2']=gmc_al['Расход боксита по конвейеру ГМЦ-1']*gmc_al['606_SiO2']/100\n",
    "gmc_al['606_CO2']=gmc_al['Расход боксита по конвейеру ГМЦ-1']*gmc_al['606_CO2']/100\n",
    "gmc_al['606_CaO']=gmc_al['Расход боксита по конвейеру ГМЦ-1']*gmc_al['606_CaO']/100\n",
    "\n",
    "gmc_red_ch['606_Vlaga']=gmc_red_ch['Расход боксита по конвейеру ГМЦ-1']*gmc_red_ch['606_Vlaga']/100\n",
    "gmc_red_ch['606_Fe2O3']=gmc_red_ch['Расход боксита по конвейеру ГМЦ-1']*gmc_red_ch['606_Fe2O3']/100\n",
    "gmc_red_ch['606_Al2O3']=gmc_red_ch['Расход боксита по конвейеру ГМЦ-1']*gmc_red_ch['606_Al2O3']/100\n",
    "gmc_red_ch['606_C_opg']=gmc_red_ch['Расход боксита по конвейеру ГМЦ-1']*gmc_red_ch['606_C_opg']/100\n",
    "gmc_red_ch['606_SiO2']=gmc_red_ch['Расход боксита по конвейеру ГМЦ-1']*gmc_red_ch['606_SiO2']/100\n",
    "gmc_red_ch['606_CO2']=gmc_red_ch['Расход боксита по конвейеру ГМЦ-1']*gmc_red_ch['606_CO2']/100\n",
    "gmc_red_ch['606_CaO']=gmc_red_ch['Расход боксита по конвейеру ГМЦ-1']*gmc_red_ch['606_CaO']/100"
   ]
  },
  {
   "cell_type": "code",
   "execution_count": 5,
   "metadata": {},
   "outputs": [],
   "source": [
    "# перемеинование столбцов\n",
    "gmc_al=rename_df(gmc_al)\n",
    "gmc_red_ch=rename_df(gmc_red_ch)\n",
    "gmc_al.columns=gmc_al.columns.str.lower()\n",
    "gmc_red_ch.columns=gmc_red_ch.columns.str.lower()"
   ]
  },
  {
   "cell_type": "code",
   "execution_count": 6,
   "metadata": {},
   "outputs": [],
   "source": [
    "# перемеинование столбцов\n",
    "for i in range(OM.shape[0]):\n",
    "    try:\n",
    "        OM['tselevojparametr'][i]=reg.sub('',transliterate.translit(str(OM['tselevojparametr'][i]),reversed=True))\n",
    "    except:\n",
    "        OM['tselevojparametr'][i]=reg.sub('',OM['tselevojparametr'][i])\n",
    "OM.loc[OM['tselevojparametr']=='1337sopg','tselevojparametr']='1337copg'"
   ]
  },
  {
   "cell_type": "markdown",
   "metadata": {},
   "source": [
    "# feature engineering"
   ]
  },
  {
   "cell_type": "code",
   "execution_count": 7,
   "metadata": {},
   "outputs": [],
   "source": [
    "# преобразование даты\n",
    "gmc_al['date']=pd.to_datetime(gmc_al['date'], format='%Y-%m-%d %H:%M:%S')\n",
    "gmc_red_ch['date']=pd.to_datetime(gmc_red_ch['date'], format='%Y-%m-%d %H:%M:%S')\n",
    "gmc_red_ch2=gmc_red_ch[gmc_red_ch['date']<'2019']\n",
    "gmc_red_ch=gmc_red_ch[gmc_red_ch['date']>='2019']"
   ]
  },
  {
   "cell_type": "code",
   "execution_count": 8,
   "metadata": {},
   "outputs": [],
   "source": [
    "# убираем индексы\n",
    "gmc_al=gmc_al.reset_index(drop=True)\n",
    "gmc_red_ch=gmc_red_ch.reset_index(drop=True)\n",
    "gmc_red_ch2=gmc_red_ch2.reset_index(drop=True)"
   ]
  },
  {
   "cell_type": "code",
   "execution_count": 9,
   "metadata": {},
   "outputs": [],
   "source": [
    "# преобразование данных\n",
    "gmc_al['606modkp']=gmc_al['606al2o3']/gmc_al['606sio2']\n",
    "gmc_red_ch['606modkp']=gmc_red_ch['606al2o3']/gmc_red_ch['606sio2']\n",
    "gmc_red_ch2['606modkp']=gmc_red_ch2['606al2o3']/gmc_red_ch2['606sio2']\n",
    "gmc_al['606al2o3']=gmc_al['606al2o3']+gmc_al['1064al2o3']/1000*gmc_al['dozirovkaoborotnogorastvoragmts1']\n",
    "gmc_red_ch['606al2o3']=gmc_red_ch['606al2o3']+gmc_red_ch['1064al2o3']/1000*gmc_red_ch['dozirovkaoborotnogorastvoragmts1']\n",
    "gmc_red_ch2['606al2o3']=gmc_red_ch2['606al2o3']+gmc_red_ch2['1064al2o3']/1000*gmc_red_ch2['dozirovkaoborotnogorastvoragmts1']\n",
    "gmc_al['1064na2oku']=gmc_al['1064na2oku']/1000*gmc_al['dozirovkaoborotnogorastvoragmts1']\n",
    "gmc_red_ch['1064na2oku']=gmc_red_ch['1064na2oku']/1000*gmc_red_ch['dozirovkaoborotnogorastvoragmts1']\n",
    "gmc_red_ch2['1064na2oku']=gmc_red_ch2['1064na2oku']/1000*gmc_red_ch2['dozirovkaoborotnogorastvoragmts1']\n",
    "gmc_red_ch['671cao']=gmc_red_ch['671cao']/100*(gmc_red_ch['rashodsuhogoboksitatss1']+gmc_red_ch['podanoizvestnjakavtss1'])\n",
    "gmc_red_ch['671sio2']=gmc_red_ch['671sio2']/100*(gmc_red_ch['rashodsuhogoboksitatss1']+gmc_red_ch['podanoizvestnjakavtss1'])\n",
    "gmc_red_ch['671vlaga']=gmc_red_ch['671vlaga']/100*(gmc_red_ch['rashodsuhogoboksitatss1']+gmc_red_ch['podanoizvestnjakavtss1'])\n",
    "gmc_red_ch['671al2o3']=gmc_red_ch['671al2o3']/100*(gmc_red_ch['rashodsuhogoboksitatss1']+gmc_red_ch['podanoizvestnjakavtss1'])\n",
    "\n",
    "gmc_red_ch2['671cao']=gmc_red_ch2['671cao']/100*(gmc_red_ch2['rashodsuhogoboksitatss1']+gmc_red_ch2['podanoizvestnjakavtss1'])\n",
    "gmc_red_ch2['671sio2']=gmc_red_ch2['671sio2']/100*(gmc_red_ch2['rashodsuhogoboksitatss1']+gmc_red_ch2['podanoizvestnjakavtss1'])\n",
    "gmc_red_ch2['671vlaga']=gmc_red_ch2['671vlaga']/100*(gmc_red_ch2['rashodsuhogoboksitatss1']+gmc_red_ch2['podanoizvestnjakavtss1'])\n",
    "gmc_red_ch2['671al2o3']=gmc_red_ch2['671al2o3']/100*(gmc_red_ch2['rashodsuhogoboksitatss1']+gmc_red_ch2['podanoizvestnjakavtss1'])"
   ]
  },
  {
   "cell_type": "code",
   "execution_count": 10,
   "metadata": {},
   "outputs": [
    {
     "output_type": "stream",
     "name": "stdout",
     "text": [
      "используй модель, как в 2018\n",
      "CPU times: user 19.1 s, sys: 1.81 s, total: 20.9 s\n",
      "Wall time: 11.3 s\n"
     ]
    }
   ],
   "source": [
    "%%time\n",
    "# обучение моделей\n",
    "data_model_coef=pd.DataFrame(columns=list(OM.columns))\n",
    "data_model_coef=data_model_coef.rename(columns={'stsenarij':'intercept'})\n",
    "for i in range(OM.shape[0]):\n",
    "#     y=gmc[(~gmc[OM['tselevojparametr'][i]].isna()) & (gmc[OM['tselevojparametr'][i]]!=0)][OM['tselevojparametr'][i]]\n",
    "    x_list=OM.loc[OM['tselevojparametr']==OM['tselevojparametr'][i]].iloc[:,4:]\n",
    "    \n",
    "    if list(OM.loc[OM['tselevojparametr']==OM['tselevojparametr'][i]]['pp'])[0]=='ch':\n",
    "        X=gmc_red_ch[(~gmc_red_ch[OM['tselevojparametr'][i]].isna()) & (gmc_red_ch[OM['tselevojparametr'][i]]>0.001)][[OM['tselevojparametr'][i]]+list(x_list.loc[:, (x_list != 0).any(axis=0)].columns)]\n",
    "    elif list(OM.loc[OM['tselevojparametr']==OM['tselevojparametr'][i]]['pp'])[0]=='al':\n",
    "        X=gmc_al[(~gmc_al[OM['tselevojparametr'][i]].isna()) & (gmc_al[OM['tselevojparametr'][i]]>0.001)][[OM['tselevojparametr'][i]]+list(x_list.loc[:, (x_list != 0).any(axis=0)].columns)]\n",
    "    else:\n",
    "        X=gmc_red_ch2[(~gmc_red_ch2[OM['tselevojparametr'][i]].isna()) & (gmc_red_ch2[OM['tselevojparametr'][i]]>0.001)][[OM['tselevojparametr'][i]]+list(x_list.loc[:, (x_list != 0).any(axis=0)].columns)]\n",
    "\n",
    "\n",
    "#     X=gmc[(~gmc[OM['tselevojparametr'][i]].isna()) & (gmc[OM['tselevojparametr'][i]]>0.001)][[OM['tselevojparametr'][i]]+list(x_list.loc[:, (x_list != 0).any(axis=0)].columns)]\n",
    "    X.dropna(inplace=True)\n",
    "    y=X[[OM['tselevojparametr'][i]]]\n",
    "    X=X.drop(columns=[OM['tselevojparametr'][i]])\n",
    "    \n",
    "    if OM['tselevojparametr'][i]=='1176al2o3':\n",
    "        X=X.iloc[900:1000]\n",
    "        y=y.iloc[900:1000]\n",
    "        model = linear_model.Ridge(alpha=1.0,normalize=False)\n",
    "        model.fit(X, y)\n",
    "    elif OM['tselevojparametr'][i]=='rashodalrranadeksuchizmzapasavm582tss4':\n",
    "#         X=X.reset_index()\n",
    "#         y=y.reset_index()\n",
    "#         X=X[X['index'].isin(list_index)].drop(columns=['index'])\n",
    "#         y=y[y['index'].isin(list_index)].drop(columns=['index'])\n",
    "#         print(X.shape)\n",
    "#         model = linear_model.Ridge(alpha=1.0,normalize=True)\n",
    "#         model.fit(X, y)\n",
    "        print('используй модель, как в 2018')\n",
    "    elif OM['tselevojparametr'][i]=='1plotnostotn':\n",
    "        X=X.drop(list(pd.DataFrame(y)[pd.DataFrame(y)['1plotnostotn']>5].index)[0],axis=0)\n",
    "        y=y.drop(list(pd.DataFrame(y)[pd.DataFrame(y)['1plotnostotn']>5].index)[0],axis=0)\n",
    "        model = linear_model.Ridge(alpha=1.0,normalize=False)\n",
    "        model.fit(X, y)\n",
    "    else:\n",
    "        model = linear_model.Ridge(alpha=1.0)\n",
    "        model.fit(X, y)\n",
    "    \n",
    "    if OM['tselevojparametr'][i]!='rashodalrranadeksuchizmzapasavm582tss4':\n",
    "        joblib.dump(model, '../model_2018/PAZ_Ridge_'+str(list(y.columns)[0])+'.pkl')\n",
    "    \n",
    "        q1=pd.DataFrame(zip(list(X.columns),list(model.coef_[0])), columns=['index','coef']).T\n",
    "        q1.columns=q1.iloc[0]\n",
    "        q1=q1.iloc[1:]\n",
    "        q1['intercept']=list(model.intercept_)[0]\n",
    "        q1['tselevojparametr']=OM['tselevojparametr'][i]\n",
    "        q1['pp']=model.score(X, y)\n",
    "        q1['gmts']=list((abs(model.predict(X) - y)/model.predict(X)*100).mean())[0]\n",
    "        data_model_coef=pd.concat([data_model_coef,q1])\n",
    "#     print('coefficient of determination: ', model.score(X, y), '\\n')\n",
    "#     print('mape: ', (abs(model.predict(X) - y)/model.predict(X)*100).mean(),'\\n')\n",
    "#     print('intercept: ',model.intercept_, '\\n')\n",
    "#     print('coef: ',model.coef_,'\\n','\\n')\n",
    "    \n",
    "#     for ii in range(len(X.columns)):\n",
    "#         print(X.columns[ii], model.coef_[0][ii])"
   ]
  },
  {
   "cell_type": "code",
   "execution_count": 56,
   "metadata": {},
   "outputs": [],
   "source": [
    "# сбор екселя с коэффицентами \n",
    "OM_1=pd.read_excel('../Объектная модель ПАЗ.xlsx',sheet_name='Прогноз')\n",
    "OM_1=OM_1[OM_1['Целевой параметр']!='Расход ал.р-ра на дек. с уч. изм. запаса в м.582 ЦС4']\n",
    "data_model_coef.columns=list(OM_1.columns)\n",
    "data_model_coef.rename(columns={'сценарий':'intercept'},inplace=True)\n",
    "data_model_coef.rename(columns={'№ п/п':'score'},inplace=True)\n",
    "data_model_coef.rename(columns={'№ ГМЦ':'mape'},inplace=True)\n",
    "data_model_coef['Целевой параметр']=list(OM_1['Целевой параметр'])\n",
    "data_model_coef[data_model_coef['Целевой параметр']=='Расход ал.р-ра на дек. с уч. изм. запаса в м.582 ЦС4']['671_Al2O3']"
   ]
  },
  {
   "cell_type": "code",
   "execution_count": 61,
   "metadata": {},
   "outputs": [],
   "source": [
    "data_model_coef.to_excel('data_model_coef_2018.xlsx',index=False)"
   ]
  },
  {
   "cell_type": "code",
   "execution_count": null,
   "metadata": {},
   "outputs": [],
   "source": []
  }
 ],
 "metadata": {
  "kernelspec": {
   "display_name": "Python 3",
   "language": "python",
   "name": "python3"
  },
  "language_info": {
   "codemirror_mode": {
    "name": "ipython",
    "version": 3
   },
   "file_extension": ".py",
   "mimetype": "text/x-python",
   "name": "python",
   "nbconvert_exporter": "python",
   "pygments_lexer": "ipython3",
   "version": "3.8.2-final"
  }
 },
 "nbformat": 4,
 "nbformat_minor": 4
}